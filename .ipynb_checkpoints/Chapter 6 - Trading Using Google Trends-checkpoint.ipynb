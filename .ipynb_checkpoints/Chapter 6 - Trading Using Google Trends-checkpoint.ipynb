{
 "cells": [
  {
   "cell_type": "code",
   "execution_count": 2,
   "metadata": {
    "collapsed": true
   },
   "outputs": [],
   "source": [
    "import pandas as pd\n",
    "import numpy as np\n",
    "import datetime as dt\n",
    "import matplotlib.pyplot as plt\n",
    "\n",
    "pd.set_option('precision', 6)\n",
    "\n",
    "%matplotlib inline"
   ]
  },
  {
   "cell_type": "code",
   "execution_count": 3,
   "metadata": {},
   "outputs": [
    {
     "name": "stderr",
     "output_type": "stream",
     "text": [
      "C:\\Anaconda3\\lib\\site-packages\\fix_yahoo_finance\\__init__.py:43: DeprecationWarning: \n",
      "    Auto-overriding of pandas_datareader's get_data_yahoo() is deprecated and no longer available.\n",
      "    Use pdr_override() to explicitly override it.\n",
      "  DeprecationWarning)\n"
     ]
    }
   ],
   "source": [
    "from pandas_datareader import data as web\n",
    "import fix_yahoo_finance as yf"
   ]
  },
  {
   "cell_type": "code",
   "execution_count": 4,
   "metadata": {
    "collapsed": true
   },
   "outputs": [],
   "source": [
    "yf.pdr_override() # to override pandas_datareader.data.get_data_yahoo() method"
   ]
  },
  {
   "cell_type": "code",
   "execution_count": 5,
   "metadata": {
    "scrolled": true
   },
   "outputs": [
    {
     "name": "stdout",
     "output_type": "stream",
     "text": [
      "(373, 102)\n"
     ]
    },
    {
     "data": {
      "text/html": [
       "<div>\n",
       "<style>\n",
       "    .dataframe thead tr:only-child th {\n",
       "        text-align: right;\n",
       "    }\n",
       "\n",
       "    .dataframe thead th {\n",
       "        text-align: left;\n",
       "    }\n",
       "\n",
       "    .dataframe tbody tr th {\n",
       "        vertical-align: top;\n",
       "    }\n",
       "</style>\n",
       "<table border=\"1\" class=\"dataframe\">\n",
       "  <thead>\n",
       "    <tr style=\"text-align: right;\">\n",
       "      <th></th>\n",
       "      <th>Google Start Date</th>\n",
       "      <th>Google End Date</th>\n",
       "      <th>arts</th>\n",
       "      <th>banking</th>\n",
       "      <th>bonds</th>\n",
       "      <th>bubble</th>\n",
       "      <th>buy</th>\n",
       "      <th>cancer</th>\n",
       "      <th>car</th>\n",
       "      <th>cash</th>\n",
       "      <th>...</th>\n",
       "      <th>trader</th>\n",
       "      <th>train</th>\n",
       "      <th>transaction</th>\n",
       "      <th>travel</th>\n",
       "      <th>unemployment</th>\n",
       "      <th>war</th>\n",
       "      <th>water</th>\n",
       "      <th>world</th>\n",
       "      <th>DJIA Date</th>\n",
       "      <th>DJIA Closing Price</th>\n",
       "    </tr>\n",
       "  </thead>\n",
       "  <tbody>\n",
       "    <tr>\n",
       "      <th>0</th>\n",
       "      <td>2004-01-04</td>\n",
       "      <td>2004-01-10</td>\n",
       "      <td>0.956667</td>\n",
       "      <td>0.193333</td>\n",
       "      <td>0.203333</td>\n",
       "      <td>0.183333</td>\n",
       "      <td>2.41667</td>\n",
       "      <td>0.913333</td>\n",
       "      <td>4.19333</td>\n",
       "      <td>0.326667</td>\n",
       "      <td>...</td>\n",
       "      <td>0.346667</td>\n",
       "      <td>0.706667</td>\n",
       "      <td>0.050000</td>\n",
       "      <td>2.06000</td>\n",
       "      <td>0.336667</td>\n",
       "      <td>2.02000</td>\n",
       "      <td>1.91333</td>\n",
       "      <td>4.83333</td>\n",
       "      <td>2004-01-12</td>\n",
       "      <td>10485.18</td>\n",
       "    </tr>\n",
       "    <tr>\n",
       "      <th>1</th>\n",
       "      <td>2004-01-11</td>\n",
       "      <td>2004-01-17</td>\n",
       "      <td>0.970000</td>\n",
       "      <td>0.203333</td>\n",
       "      <td>0.186667</td>\n",
       "      <td>0.190000</td>\n",
       "      <td>2.31667</td>\n",
       "      <td>0.940000</td>\n",
       "      <td>4.22000</td>\n",
       "      <td>0.320000</td>\n",
       "      <td>...</td>\n",
       "      <td>0.346667</td>\n",
       "      <td>0.676667</td>\n",
       "      <td>0.050000</td>\n",
       "      <td>2.05333</td>\n",
       "      <td>0.296667</td>\n",
       "      <td>2.09333</td>\n",
       "      <td>1.93333</td>\n",
       "      <td>4.76667</td>\n",
       "      <td>2004-01-20</td>\n",
       "      <td>10528.66</td>\n",
       "    </tr>\n",
       "    <tr>\n",
       "      <th>2</th>\n",
       "      <td>2004-01-18</td>\n",
       "      <td>2004-01-24</td>\n",
       "      <td>0.926667</td>\n",
       "      <td>0.196667</td>\n",
       "      <td>0.190000</td>\n",
       "      <td>0.173333</td>\n",
       "      <td>2.35000</td>\n",
       "      <td>0.906667</td>\n",
       "      <td>4.10667</td>\n",
       "      <td>0.320000</td>\n",
       "      <td>...</td>\n",
       "      <td>0.356667</td>\n",
       "      <td>0.713333</td>\n",
       "      <td>0.056667</td>\n",
       "      <td>2.01333</td>\n",
       "      <td>0.310000</td>\n",
       "      <td>1.97333</td>\n",
       "      <td>1.89333</td>\n",
       "      <td>4.60000</td>\n",
       "      <td>2004-01-26</td>\n",
       "      <td>10702.51</td>\n",
       "    </tr>\n",
       "    <tr>\n",
       "      <th>3</th>\n",
       "      <td>2004-01-25</td>\n",
       "      <td>2004-01-31</td>\n",
       "      <td>0.950000</td>\n",
       "      <td>0.196667</td>\n",
       "      <td>0.180000</td>\n",
       "      <td>0.196667</td>\n",
       "      <td>2.26667</td>\n",
       "      <td>0.906667</td>\n",
       "      <td>3.99333</td>\n",
       "      <td>0.330000</td>\n",
       "      <td>...</td>\n",
       "      <td>0.336667</td>\n",
       "      <td>0.710000</td>\n",
       "      <td>0.060000</td>\n",
       "      <td>1.91333</td>\n",
       "      <td>0.296667</td>\n",
       "      <td>1.90667</td>\n",
       "      <td>1.92000</td>\n",
       "      <td>4.53333</td>\n",
       "      <td>2004-02-02</td>\n",
       "      <td>10499.18</td>\n",
       "    </tr>\n",
       "    <tr>\n",
       "      <th>4</th>\n",
       "      <td>2004-02-01</td>\n",
       "      <td>2004-02-07</td>\n",
       "      <td>0.893333</td>\n",
       "      <td>0.203333</td>\n",
       "      <td>0.183333</td>\n",
       "      <td>0.173333</td>\n",
       "      <td>2.08333</td>\n",
       "      <td>0.913333</td>\n",
       "      <td>3.84000</td>\n",
       "      <td>0.303333</td>\n",
       "      <td>...</td>\n",
       "      <td>0.326667</td>\n",
       "      <td>0.630000</td>\n",
       "      <td>0.050000</td>\n",
       "      <td>1.76667</td>\n",
       "      <td>0.290000</td>\n",
       "      <td>2.08667</td>\n",
       "      <td>1.88667</td>\n",
       "      <td>4.53333</td>\n",
       "      <td>2004-02-09</td>\n",
       "      <td>10579.03</td>\n",
       "    </tr>\n",
       "  </tbody>\n",
       "</table>\n",
       "<p>5 rows × 102 columns</p>\n",
       "</div>"
      ],
      "text/plain": [
       "  Google Start Date Google End Date      arts   banking     bonds    bubble  \\\n",
       "0        2004-01-04      2004-01-10  0.956667  0.193333  0.203333  0.183333   \n",
       "1        2004-01-11      2004-01-17  0.970000  0.203333  0.186667  0.190000   \n",
       "2        2004-01-18      2004-01-24  0.926667  0.196667  0.190000  0.173333   \n",
       "3        2004-01-25      2004-01-31  0.950000  0.196667  0.180000  0.196667   \n",
       "4        2004-02-01      2004-02-07  0.893333  0.203333  0.183333  0.173333   \n",
       "\n",
       "       buy    cancer      car      cash         ...            trader  \\\n",
       "0  2.41667  0.913333  4.19333  0.326667         ...          0.346667   \n",
       "1  2.31667  0.940000  4.22000  0.320000         ...          0.346667   \n",
       "2  2.35000  0.906667  4.10667  0.320000         ...          0.356667   \n",
       "3  2.26667  0.906667  3.99333  0.330000         ...          0.336667   \n",
       "4  2.08333  0.913333  3.84000  0.303333         ...          0.326667   \n",
       "\n",
       "      train  transaction   travel  unemployment      war    water    world  \\\n",
       "0  0.706667     0.050000  2.06000      0.336667  2.02000  1.91333  4.83333   \n",
       "1  0.676667     0.050000  2.05333      0.296667  2.09333  1.93333  4.76667   \n",
       "2  0.713333     0.056667  2.01333      0.310000  1.97333  1.89333  4.60000   \n",
       "3  0.710000     0.060000  1.91333      0.296667  1.90667  1.92000  4.53333   \n",
       "4  0.630000     0.050000  1.76667      0.290000  2.08667  1.88667  4.53333   \n",
       "\n",
       "   DJIA Date  DJIA Closing Price  \n",
       "0 2004-01-12            10485.18  \n",
       "1 2004-01-20            10528.66  \n",
       "2 2004-01-26            10702.51  \n",
       "3 2004-02-02            10499.18  \n",
       "4 2004-02-09            10579.03  \n",
       "\n",
       "[5 rows x 102 columns]"
      ]
     },
     "execution_count": 5,
     "metadata": {},
     "output_type": "execute_result"
    }
   ],
   "source": [
    "paper = pd.read_csv('PreisMoatStanley2013.dat',\n",
    "                    delimiter = ' ',\n",
    "                    parse_dates=[0, 1, 100, 101])\n",
    "\n",
    "print(paper.shape)\n",
    "paper.head()"
   ]
  },
  {
   "cell_type": "code",
   "execution_count": 6,
   "metadata": {},
   "outputs": [
    {
     "data": {
      "text/plain": [
       "['Google Start Date',\n",
       " 'Google End Date',\n",
       " 'arts',\n",
       " 'banking',\n",
       " 'bonds',\n",
       " 'bubble',\n",
       " 'buy',\n",
       " 'cancer',\n",
       " 'car',\n",
       " 'cash',\n",
       " 'chance',\n",
       " 'color',\n",
       " 'conflict',\n",
       " 'consume',\n",
       " 'consumption',\n",
       " 'crash',\n",
       " 'credit',\n",
       " 'crisis',\n",
       " 'culture',\n",
       " 'debt',\n",
       " 'default',\n",
       " 'derivatives',\n",
       " 'dividend',\n",
       " 'dow jones',\n",
       " 'earnings',\n",
       " 'economics',\n",
       " 'economy',\n",
       " 'energy',\n",
       " 'environment',\n",
       " 'fed',\n",
       " 'finance',\n",
       " 'financial markets',\n",
       " 'fine',\n",
       " 'fond',\n",
       " 'food',\n",
       " 'forex',\n",
       " 'freedom',\n",
       " 'fun',\n",
       " 'gain',\n",
       " 'gains',\n",
       " 'garden',\n",
       " 'gold',\n",
       " 'greed',\n",
       " 'growth',\n",
       " 'happy',\n",
       " 'headlines',\n",
       " 'health',\n",
       " 'hedge',\n",
       " 'holiday',\n",
       " 'home',\n",
       " 'house',\n",
       " 'housing',\n",
       " 'inflation',\n",
       " 'invest',\n",
       " 'investment',\n",
       " 'kitchen',\n",
       " 'labor',\n",
       " 'leverage',\n",
       " 'lifestyle',\n",
       " 'loss',\n",
       " 'markets',\n",
       " 'marriage',\n",
       " 'metals',\n",
       " 'money',\n",
       " 'movie',\n",
       " 'nasdaq',\n",
       " 'nyse',\n",
       " 'office',\n",
       " 'oil',\n",
       " 'opportunity',\n",
       " 'ore',\n",
       " 'politics',\n",
       " 'portfolio',\n",
       " 'present',\n",
       " 'profit',\n",
       " 'rare earths',\n",
       " 'religion',\n",
       " 'restaurant',\n",
       " 'return',\n",
       " 'returns',\n",
       " 'revenue',\n",
       " 'rich',\n",
       " 'ring',\n",
       " 'risk',\n",
       " 'sell',\n",
       " 'short sell',\n",
       " 'short selling',\n",
       " 'society',\n",
       " 'stock market',\n",
       " 'stocks',\n",
       " 'success',\n",
       " 'tourism',\n",
       " 'trader',\n",
       " 'train',\n",
       " 'transaction',\n",
       " 'travel',\n",
       " 'unemployment',\n",
       " 'war',\n",
       " 'water',\n",
       " 'world',\n",
       " 'DJIA Date',\n",
       " 'DJIA Closing Price']"
      ]
     },
     "execution_count": 6,
     "metadata": {},
     "output_type": "execute_result"
    }
   ],
   "source": [
    "columns = [column for column in paper.columns]\n",
    "# print([column for column in paper.columns])\n",
    "columns"
   ]
  },
  {
   "cell_type": "code",
   "execution_count": 7,
   "metadata": {},
   "outputs": [
    {
     "data": {
      "text/html": [
       "<div>\n",
       "<style>\n",
       "    .dataframe thead tr:only-child th {\n",
       "        text-align: right;\n",
       "    }\n",
       "\n",
       "    .dataframe thead th {\n",
       "        text-align: left;\n",
       "    }\n",
       "\n",
       "    .dataframe tbody tr th {\n",
       "        vertical-align: top;\n",
       "    }\n",
       "</style>\n",
       "<table border=\"1\" class=\"dataframe\">\n",
       "  <thead>\n",
       "    <tr style=\"text-align: right;\">\n",
       "      <th></th>\n",
       "      <th>DJIAClose</th>\n",
       "      <th>DJIADate</th>\n",
       "      <th>GoogleWE</th>\n",
       "      <th>debt</th>\n",
       "    </tr>\n",
       "  </thead>\n",
       "  <tbody>\n",
       "    <tr>\n",
       "      <th>0</th>\n",
       "      <td>10485.18</td>\n",
       "      <td>2004-01-12</td>\n",
       "      <td>2004-01-10</td>\n",
       "      <td>0.210000</td>\n",
       "    </tr>\n",
       "    <tr>\n",
       "      <th>1</th>\n",
       "      <td>10528.66</td>\n",
       "      <td>2004-01-20</td>\n",
       "      <td>2004-01-17</td>\n",
       "      <td>0.210000</td>\n",
       "    </tr>\n",
       "    <tr>\n",
       "      <th>2</th>\n",
       "      <td>10702.51</td>\n",
       "      <td>2004-01-26</td>\n",
       "      <td>2004-01-24</td>\n",
       "      <td>0.210000</td>\n",
       "    </tr>\n",
       "    <tr>\n",
       "      <th>3</th>\n",
       "      <td>10499.18</td>\n",
       "      <td>2004-02-02</td>\n",
       "      <td>2004-01-31</td>\n",
       "      <td>0.213333</td>\n",
       "    </tr>\n",
       "    <tr>\n",
       "      <th>4</th>\n",
       "      <td>10579.03</td>\n",
       "      <td>2004-02-09</td>\n",
       "      <td>2004-02-07</td>\n",
       "      <td>0.200000</td>\n",
       "    </tr>\n",
       "  </tbody>\n",
       "</table>\n",
       "</div>"
      ],
      "text/plain": [
       "   DJIAClose   DJIADate   GoogleWE      debt\n",
       "0   10485.18 2004-01-12 2004-01-10  0.210000\n",
       "1   10528.66 2004-01-20 2004-01-17  0.210000\n",
       "2   10702.51 2004-01-26 2004-01-24  0.210000\n",
       "3   10499.18 2004-02-02 2004-01-31  0.213333\n",
       "4   10579.03 2004-02-09 2004-02-07  0.200000"
      ]
     },
     "execution_count": 7,
     "metadata": {},
     "output_type": "execute_result"
    }
   ],
   "source": [
    "data = pd.DataFrame({'GoogleWE': paper['Google End Date'], \n",
    "                     'debt': paper['debt'].astype(np.float64),\n",
    "                     'DJIADate': paper['DJIA Date'],\n",
    "                     'DJIAClose': paper['DJIA Closing Price'].astype(np.float64)})\n",
    "\n",
    "data.head()"
   ]
  },
  {
   "cell_type": "code",
   "execution_count": 8,
   "metadata": {},
   "outputs": [
    {
     "data": {
      "text/plain": [
       "<matplotlib.axes._subplots.AxesSubplot at 0x248608092e8>"
      ]
     },
     "execution_count": 8,
     "metadata": {},
     "output_type": "execute_result"
    },
    {
     "data": {
      "image/png": "[encoded data removed]",
      "text/plain": [
       "<matplotlib.figure.Figure at 0x24860809908>"
      ]
     },
     "metadata": {},
     "output_type": "display_data"
    }
   ],
   "source": [
    "data.debt.plot()"
   ]
  },
  {
   "cell_type": "code",
   "execution_count": 9,
   "metadata": {},
   "outputs": [
    {
     "data": {
      "text/plain": [
       "<matplotlib.axes._subplots.AxesSubplot at 0x248607ebba8>"
      ]
     },
     "execution_count": 9,
     "metadata": {},
     "output_type": "execute_result"
    },
    {
     "data": {
      "image/png": "[encoded data removed]",
      "text/plain": [
       "<matplotlib.figure.Figure at 0x2486078a6a0>"
      ]
     },
     "metadata": {},
     "output_type": "display_data"
    }
   ],
   "source": [
    "paper['hedge'].plot()"
   ]
  },
  {
   "cell_type": "code",
   "execution_count": 25,
   "metadata": {
    "collapsed": true
   },
   "outputs": [],
   "source": [
    "# to gather our own DJIA data from Quandl\n",
    "\n",
    "import quandl\n",
    "\n",
    "quandl.authtoken = 'ko-Mc-BiaTFCKQKo4WPx'"
   ]
  },
  {
   "cell_type": "code",
   "execution_count": 11,
   "metadata": {
    "collapsed": true
   },
   "outputs": [],
   "source": [
    "quandl.ApiConfig.api_key = 'ko-Mc-BiaTFCKQKo4WPx'"
   ]
  },
  {
   "cell_type": "raw",
   "metadata": {},
   "source": [
    "djia = quandl.get('BCB/UDJIAD1',\n",
    "                 trim_start='2004-01-01',\n",
    "                 trim_end='2011-03-05')\n",
    "\n",
    "djia.head()\n",
    "\n",
    "\n",
    "# DeprecationWarning: trim_end will no longer supported. Please use end_date instead\n",
    "#   warnings.warn(msg, DeprecationWarning)\n",
    "# C:\\Anaconda3\\lib\\site-packages\\quandl\\get.py:91: DeprecationWarning: trim_start will no longer supported. Please use start_date instead"
   ]
  },
  {
   "cell_type": "code",
   "execution_count": 12,
   "metadata": {},
   "outputs": [
    {
     "data": {
      "text/html": [
       "<div>\n",
       "<style>\n",
       "    .dataframe thead tr:only-child th {\n",
       "        text-align: right;\n",
       "    }\n",
       "\n",
       "    .dataframe thead th {\n",
       "        text-align: left;\n",
       "    }\n",
       "\n",
       "    .dataframe tbody tr th {\n",
       "        vertical-align: top;\n",
       "    }\n",
       "</style>\n",
       "<table border=\"1\" class=\"dataframe\">\n",
       "  <thead>\n",
       "    <tr style=\"text-align: right;\">\n",
       "      <th></th>\n",
       "      <th>Value</th>\n",
       "    </tr>\n",
       "    <tr>\n",
       "      <th>Date</th>\n",
       "      <th></th>\n",
       "    </tr>\n",
       "  </thead>\n",
       "  <tbody>\n",
       "    <tr>\n",
       "      <th>2004-01-02</th>\n",
       "      <td>10409.85</td>\n",
       "    </tr>\n",
       "    <tr>\n",
       "      <th>2004-01-05</th>\n",
       "      <td>10544.07</td>\n",
       "    </tr>\n",
       "    <tr>\n",
       "      <th>2004-01-06</th>\n",
       "      <td>10538.66</td>\n",
       "    </tr>\n",
       "    <tr>\n",
       "      <th>2004-01-07</th>\n",
       "      <td>10529.03</td>\n",
       "    </tr>\n",
       "    <tr>\n",
       "      <th>2004-01-08</th>\n",
       "      <td>10592.44</td>\n",
       "    </tr>\n",
       "  </tbody>\n",
       "</table>\n",
       "</div>"
      ],
      "text/plain": [
       "               Value\n",
       "Date                \n",
       "2004-01-02  10409.85\n",
       "2004-01-05  10544.07\n",
       "2004-01-06  10538.66\n",
       "2004-01-07  10529.03\n",
       "2004-01-08  10592.44"
      ]
     },
     "execution_count": 12,
     "metadata": {},
     "output_type": "execute_result"
    }
   ],
   "source": [
    "djia = quandl.get('BCB/UDJIAD1',\n",
    "                 start_date='2004-01-01',\n",
    "                 end_date='2011-03-05')\n",
    "\n",
    "djia.head()"
   ]
  },
  {
   "cell_type": "code",
   "execution_count": 13,
   "metadata": {},
   "outputs": [
    {
     "data": {
      "text/plain": [
       "(1806, 1)"
      ]
     },
     "execution_count": 13,
     "metadata": {},
     "output_type": "execute_result"
    }
   ],
   "source": [
    "djia.shape"
   ]
  },
  {
   "cell_type": "code",
   "execution_count": 14,
   "metadata": {
    "scrolled": true
   },
   "outputs": [
    {
     "data": {
      "text/html": [
       "<div>\n",
       "<style>\n",
       "    .dataframe thead tr:only-child th {\n",
       "        text-align: right;\n",
       "    }\n",
       "\n",
       "    .dataframe thead th {\n",
       "        text-align: left;\n",
       "    }\n",
       "\n",
       "    .dataframe tbody tr th {\n",
       "        vertical-align: top;\n",
       "    }\n",
       "</style>\n",
       "<table border=\"1\" class=\"dataframe\">\n",
       "  <thead>\n",
       "    <tr style=\"text-align: right;\">\n",
       "      <th></th>\n",
       "      <th>Date</th>\n",
       "      <th>Close</th>\n",
       "    </tr>\n",
       "  </thead>\n",
       "  <tbody>\n",
       "    <tr>\n",
       "      <th>0</th>\n",
       "      <td>2004-01-02</td>\n",
       "      <td>10409.85</td>\n",
       "    </tr>\n",
       "    <tr>\n",
       "      <th>1</th>\n",
       "      <td>2004-01-05</td>\n",
       "      <td>10544.07</td>\n",
       "    </tr>\n",
       "    <tr>\n",
       "      <th>2</th>\n",
       "      <td>2004-01-06</td>\n",
       "      <td>10538.66</td>\n",
       "    </tr>\n",
       "    <tr>\n",
       "      <th>3</th>\n",
       "      <td>2004-01-07</td>\n",
       "      <td>10529.03</td>\n",
       "    </tr>\n",
       "    <tr>\n",
       "      <th>4</th>\n",
       "      <td>2004-01-08</td>\n",
       "      <td>10592.44</td>\n",
       "    </tr>\n",
       "  </tbody>\n",
       "</table>\n",
       "</div>"
      ],
      "text/plain": [
       "        Date     Close\n",
       "0 2004-01-02  10409.85\n",
       "1 2004-01-05  10544.07\n",
       "2 2004-01-06  10538.66\n",
       "3 2004-01-07  10529.03\n",
       "4 2004-01-08  10592.44"
      ]
     },
     "execution_count": 14,
     "metadata": {},
     "output_type": "execute_result"
    }
   ],
   "source": [
    "djia.columns = ['Close']\n",
    "djia_closes = djia.reset_index()\n",
    "djia_closes.head()"
   ]
  },
  {
   "cell_type": "code",
   "execution_count": 15,
   "metadata": {},
   "outputs": [
    {
     "data": {
      "text/html": [
       "<div>\n",
       "<style>\n",
       "    .dataframe thead tr:only-child th {\n",
       "        text-align: right;\n",
       "    }\n",
       "\n",
       "    .dataframe thead th {\n",
       "        text-align: left;\n",
       "    }\n",
       "\n",
       "    .dataframe tbody tr th {\n",
       "        vertical-align: top;\n",
       "    }\n",
       "</style>\n",
       "<table border=\"1\" class=\"dataframe\">\n",
       "  <thead>\n",
       "    <tr style=\"text-align: right;\">\n",
       "      <th></th>\n",
       "      <th>DJIAClose</th>\n",
       "      <th>DJIADate</th>\n",
       "      <th>GoogleWE</th>\n",
       "      <th>debt</th>\n",
       "    </tr>\n",
       "  </thead>\n",
       "  <tbody>\n",
       "    <tr>\n",
       "      <th>0</th>\n",
       "      <td>10485.18</td>\n",
       "      <td>2004-01-12</td>\n",
       "      <td>2004-01-10</td>\n",
       "      <td>0.210000</td>\n",
       "    </tr>\n",
       "    <tr>\n",
       "      <th>1</th>\n",
       "      <td>10528.66</td>\n",
       "      <td>2004-01-20</td>\n",
       "      <td>2004-01-17</td>\n",
       "      <td>0.210000</td>\n",
       "    </tr>\n",
       "    <tr>\n",
       "      <th>2</th>\n",
       "      <td>10702.51</td>\n",
       "      <td>2004-01-26</td>\n",
       "      <td>2004-01-24</td>\n",
       "      <td>0.210000</td>\n",
       "    </tr>\n",
       "    <tr>\n",
       "      <th>3</th>\n",
       "      <td>10499.18</td>\n",
       "      <td>2004-02-02</td>\n",
       "      <td>2004-01-31</td>\n",
       "      <td>0.213333</td>\n",
       "    </tr>\n",
       "    <tr>\n",
       "      <th>4</th>\n",
       "      <td>10579.03</td>\n",
       "      <td>2004-02-09</td>\n",
       "      <td>2004-02-07</td>\n",
       "      <td>0.200000</td>\n",
       "    </tr>\n",
       "  </tbody>\n",
       "</table>\n",
       "</div>"
      ],
      "text/plain": [
       "   DJIAClose   DJIADate   GoogleWE      debt\n",
       "0   10485.18 2004-01-12 2004-01-10  0.210000\n",
       "1   10528.66 2004-01-20 2004-01-17  0.210000\n",
       "2   10702.51 2004-01-26 2004-01-24  0.210000\n",
       "3   10499.18 2004-02-02 2004-01-31  0.213333\n",
       "4   10579.03 2004-02-09 2004-02-07  0.200000"
      ]
     },
     "execution_count": 15,
     "metadata": {},
     "output_type": "execute_result"
    }
   ],
   "source": [
    "data.head()"
   ]
  },
  {
   "cell_type": "code",
   "execution_count": 16,
   "metadata": {},
   "outputs": [
    {
     "data": {
      "text/html": [
       "<div>\n",
       "<style>\n",
       "    .dataframe thead tr:only-child th {\n",
       "        text-align: right;\n",
       "    }\n",
       "\n",
       "    .dataframe thead th {\n",
       "        text-align: left;\n",
       "    }\n",
       "\n",
       "    .dataframe tbody tr th {\n",
       "        vertical-align: top;\n",
       "    }\n",
       "</style>\n",
       "<table border=\"1\" class=\"dataframe\">\n",
       "  <thead>\n",
       "    <tr style=\"text-align: right;\">\n",
       "      <th></th>\n",
       "      <th>DJIAClose</th>\n",
       "      <th>GoogleWE</th>\n",
       "      <th>debt</th>\n",
       "      <th>Close</th>\n",
       "    </tr>\n",
       "    <tr>\n",
       "      <th>Date</th>\n",
       "      <th></th>\n",
       "      <th></th>\n",
       "      <th></th>\n",
       "      <th></th>\n",
       "    </tr>\n",
       "  </thead>\n",
       "  <tbody>\n",
       "    <tr>\n",
       "      <th>2004-01-12</th>\n",
       "      <td>10485.18</td>\n",
       "      <td>2004-01-10</td>\n",
       "      <td>0.210000</td>\n",
       "      <td>10485.18</td>\n",
       "    </tr>\n",
       "    <tr>\n",
       "      <th>2004-01-20</th>\n",
       "      <td>10528.66</td>\n",
       "      <td>2004-01-17</td>\n",
       "      <td>0.210000</td>\n",
       "      <td>10528.66</td>\n",
       "    </tr>\n",
       "    <tr>\n",
       "      <th>2004-01-26</th>\n",
       "      <td>10702.51</td>\n",
       "      <td>2004-01-24</td>\n",
       "      <td>0.210000</td>\n",
       "      <td>10702.51</td>\n",
       "    </tr>\n",
       "    <tr>\n",
       "      <th>2004-02-02</th>\n",
       "      <td>10499.18</td>\n",
       "      <td>2004-01-31</td>\n",
       "      <td>0.213333</td>\n",
       "      <td>10499.18</td>\n",
       "    </tr>\n",
       "    <tr>\n",
       "      <th>2004-02-09</th>\n",
       "      <td>10579.03</td>\n",
       "      <td>2004-02-07</td>\n",
       "      <td>0.200000</td>\n",
       "      <td>10579.03</td>\n",
       "    </tr>\n",
       "  </tbody>\n",
       "</table>\n",
       "</div>"
      ],
      "text/plain": [
       "            DJIAClose   GoogleWE      debt     Close\n",
       "Date                                                \n",
       "2004-01-12   10485.18 2004-01-10  0.210000  10485.18\n",
       "2004-01-20   10528.66 2004-01-17  0.210000  10528.66\n",
       "2004-01-26   10702.51 2004-01-24  0.210000  10702.51\n",
       "2004-02-02   10499.18 2004-01-31  0.213333  10499.18\n",
       "2004-02-09   10579.03 2004-02-07  0.200000  10579.03"
      ]
     },
     "execution_count": 16,
     "metadata": {},
     "output_type": "execute_result"
    }
   ],
   "source": [
    "data_merged = pd.merge(data, djia_closes, left_on='DJIADate', right_on='Date')\n",
    "data_merged.drop(['DJIADate'], inplace=True, axis=1)\n",
    "data_merged.set_index('Date', inplace=True)\n",
    "data_merged.head()"
   ]
  },
  {
   "cell_type": "code",
   "execution_count": 17,
   "metadata": {},
   "outputs": [
    {
     "data": {
      "image/png": "[encoded data removed]",
      "text/plain": [
       "<matplotlib.figure.Figure at 0x24860a8eeb8>"
      ]
     },
     "metadata": {},
     "output_type": "display_data"
    }
   ],
   "source": [
    "data_merged[['DJIAClose', 'Close']].plot(figsize=(12, 6));"
   ]
  },
  {
   "cell_type": "code",
   "execution_count": 18,
   "metadata": {},
   "outputs": [
    {
     "data": {
      "image/png": "[encoded data removed]",
      "text/plain": [
       "<matplotlib.figure.Figure at 0x24860ac1358>"
      ]
     },
     "metadata": {},
     "output_type": "display_data"
    }
   ],
   "source": [
    "((data_merged.DJIAClose - data_merged.Close) * 100/ data_merged.Close). \\\n",
    "     plot(figsize=(12, 6), title='Percent difference over time');"
   ]
  },
  {
   "cell_type": "code",
   "execution_count": 19,
   "metadata": {},
   "outputs": [
    {
     "data": {
      "text/html": [
       "<div>\n",
       "<style>\n",
       "    .dataframe thead tr:only-child th {\n",
       "        text-align: right;\n",
       "    }\n",
       "\n",
       "    .dataframe thead th {\n",
       "        text-align: left;\n",
       "    }\n",
       "\n",
       "    .dataframe tbody tr th {\n",
       "        vertical-align: top;\n",
       "    }\n",
       "</style>\n",
       "<table border=\"1\" class=\"dataframe\">\n",
       "  <thead>\n",
       "    <tr style=\"text-align: right;\">\n",
       "      <th></th>\n",
       "      <th>DJIAClose</th>\n",
       "      <th>GoogleWE</th>\n",
       "      <th>debt</th>\n",
       "      <th>Close</th>\n",
       "    </tr>\n",
       "    <tr>\n",
       "      <th>Date</th>\n",
       "      <th></th>\n",
       "      <th></th>\n",
       "      <th></th>\n",
       "      <th></th>\n",
       "    </tr>\n",
       "  </thead>\n",
       "  <tbody>\n",
       "    <tr>\n",
       "      <th>2007-12-24</th>\n",
       "      <td>13550.04</td>\n",
       "      <td>2007-12-22</td>\n",
       "      <td>0.170000</td>\n",
       "      <td>13549.33</td>\n",
       "    </tr>\n",
       "    <tr>\n",
       "      <th>2008-12-22</th>\n",
       "      <td>8519.69</td>\n",
       "      <td>2008-12-20</td>\n",
       "      <td>0.216667</td>\n",
       "      <td>8519.77</td>\n",
       "    </tr>\n",
       "    <tr>\n",
       "      <th>2009-02-02</th>\n",
       "      <td>7936.75</td>\n",
       "      <td>2009-01-31</td>\n",
       "      <td>0.240000</td>\n",
       "      <td>7936.83</td>\n",
       "    </tr>\n",
       "  </tbody>\n",
       "</table>\n",
       "</div>"
      ],
      "text/plain": [
       "            DJIAClose   GoogleWE      debt     Close\n",
       "Date                                                \n",
       "2007-12-24   13550.04 2007-12-22  0.170000  13549.33\n",
       "2008-12-22    8519.69 2008-12-20  0.216667   8519.77\n",
       "2009-02-02    7936.75 2009-01-31  0.240000   7936.83"
      ]
     },
     "execution_count": 19,
     "metadata": {},
     "output_type": "execute_result"
    }
   ],
   "source": [
    "data_merged[data_merged.DJIAClose != data_merged.Close]"
   ]
  },
  {
   "cell_type": "code",
   "execution_count": 20,
   "metadata": {},
   "outputs": [
    {
     "data": {
      "text/plain": [
       "count    373.000000\n",
       "mean       0.001475\n",
       "std        0.037247\n",
       "min       -0.080000\n",
       "25%        0.000000\n",
       "50%        0.000000\n",
       "75%        0.000000\n",
       "max        0.710000\n",
       "dtype: float64"
      ]
     },
     "execution_count": 20,
     "metadata": {},
     "output_type": "execute_result"
    }
   ],
   "source": [
    "(data_merged['DJIAClose']-data_merged['Close']).describe()"
   ]
  },
  {
   "cell_type": "code",
   "execution_count": 21,
   "metadata": {},
   "outputs": [
    {
     "data": {
      "text/plain": [
       "(373, 4)"
      ]
     },
     "execution_count": 21,
     "metadata": {},
     "output_type": "execute_result"
    }
   ],
   "source": [
    "data_merged.shape"
   ]
  },
  {
   "cell_type": "code",
   "execution_count": 22,
   "metadata": {},
   "outputs": [
    {
     "data": {
      "text/html": [
       "<div>\n",
       "<style>\n",
       "    .dataframe thead tr:only-child th {\n",
       "        text-align: right;\n",
       "    }\n",
       "\n",
       "    .dataframe thead th {\n",
       "        text-align: left;\n",
       "    }\n",
       "\n",
       "    .dataframe tbody tr th {\n",
       "        vertical-align: top;\n",
       "    }\n",
       "</style>\n",
       "<table border=\"1\" class=\"dataframe\">\n",
       "  <thead>\n",
       "    <tr style=\"text-align: right;\">\n",
       "      <th></th>\n",
       "      <th>DJIAClose</th>\n",
       "      <th>Close</th>\n",
       "    </tr>\n",
       "  </thead>\n",
       "  <tbody>\n",
       "    <tr>\n",
       "      <th>DJIAClose</th>\n",
       "      <td>1.0</td>\n",
       "      <td>1.0</td>\n",
       "    </tr>\n",
       "    <tr>\n",
       "      <th>Close</th>\n",
       "      <td>1.0</td>\n",
       "      <td>1.0</td>\n",
       "    </tr>\n",
       "  </tbody>\n",
       "</table>\n",
       "</div>"
      ],
      "text/plain": [
       "           DJIAClose  Close\n",
       "DJIAClose        1.0    1.0\n",
       "Close            1.0    1.0"
      ]
     },
     "execution_count": 22,
     "metadata": {},
     "output_type": "execute_result"
    }
   ],
   "source": [
    "data_merged[['DJIAClose', 'Close']].corr()"
   ]
  },
  {
   "cell_type": "code",
   "execution_count": 41,
   "metadata": {
    "scrolled": true
   },
   "outputs": [
    {
     "name": "stderr",
     "output_type": "stream",
     "text": [
      "\"head\" no se reconoce como un comando interno o externo,\n",
      "programa o archivo por lotes ejecutable.\n",
      "C:\\Anaconda3\\lib\\site-packages\\IPython\\utils\\_process_win32.py:131: ResourceWarning: unclosed file <_io.BufferedWriter name=6>\n",
      "  return process_handler(cmd, _system_body)\n",
      "C:\\Anaconda3\\lib\\site-packages\\IPython\\utils\\_process_win32.py:131: ResourceWarning: unclosed file <_io.BufferedReader name=7>\n",
      "  return process_handler(cmd, _system_body)\n",
      "C:\\Anaconda3\\lib\\site-packages\\IPython\\utils\\_process_win32.py:131: ResourceWarning: unclosed file <_io.BufferedReader name=8>\n",
      "  return process_handler(cmd, _system_body)\n"
     ]
    }
   ],
   "source": [
    "# google trends data\n",
    "\n",
    "!head debt_google_trends.csv"
   ]
  },
  {
   "cell_type": "code",
   "execution_count": 36,
   "metadata": {},
   "outputs": [],
   "source": [
    "# from StringIO doesn't work in python 3\n",
    "try:\n",
    "    from io import StringIO\n",
    "    with open('debt_google_trends.csv') as f:\n",
    "        data_section = f.read().split('\\n\\n')[1]\n",
    "        trends_data = pd.read_csv(StringIO(data_section),\n",
    "                                  header=1, index_col='Month',\n",
    "                                  converters = {\n",
    "                                      'Month' : lambda x: pd.to_datetime(x)\n",
    "                                  })\n",
    "except:\n",
    "    pass"
   ]
  },
  {
   "cell_type": "code",
   "execution_count": 37,
   "metadata": {},
   "outputs": [
    {
     "data": {
      "text/html": [
       "<div>\n",
       "<style>\n",
       "    .dataframe thead tr:only-child th {\n",
       "        text-align: right;\n",
       "    }\n",
       "\n",
       "    .dataframe thead th {\n",
       "        text-align: left;\n",
       "    }\n",
       "\n",
       "    .dataframe tbody tr th {\n",
       "        vertical-align: top;\n",
       "    }\n",
       "</style>\n",
       "<table border=\"1\" class=\"dataframe\">\n",
       "  <thead>\n",
       "    <tr style=\"text-align: right;\">\n",
       "      <th></th>\n",
       "      <th>debt: (United States)</th>\n",
       "    </tr>\n",
       "    <tr>\n",
       "      <th>Month</th>\n",
       "      <th></th>\n",
       "    </tr>\n",
       "  </thead>\n",
       "  <tbody>\n",
       "    <tr>\n",
       "      <th>2004-01-01</th>\n",
       "      <td>78</td>\n",
       "    </tr>\n",
       "    <tr>\n",
       "      <th>2004-02-01</th>\n",
       "      <td>71</td>\n",
       "    </tr>\n",
       "    <tr>\n",
       "      <th>2004-03-01</th>\n",
       "      <td>67</td>\n",
       "    </tr>\n",
       "    <tr>\n",
       "      <th>2004-04-01</th>\n",
       "      <td>68</td>\n",
       "    </tr>\n",
       "    <tr>\n",
       "      <th>2004-05-01</th>\n",
       "      <td>68</td>\n",
       "    </tr>\n",
       "  </tbody>\n",
       "</table>\n",
       "</div>"
      ],
      "text/plain": [
       "            debt: (United States)\n",
       "Month                            \n",
       "2004-01-01                     78\n",
       "2004-02-01                     71\n",
       "2004-03-01                     67\n",
       "2004-04-01                     68\n",
       "2004-05-01                     68"
      ]
     },
     "execution_count": 37,
     "metadata": {},
     "output_type": "execute_result"
    }
   ],
   "source": [
    "# from StringIO doesn't work in python 3\n",
    "\n",
    "# montly data, gathered by me\n",
    "\n",
    "from pandas.tseries.offsets import MonthEnd\n",
    "\n",
    "from io import StringIO\n",
    "with open('debt_google_trends.csv') as f:\n",
    "    data_section = f.read().split('\\n\\n')[1]\n",
    "    trends_data_montly = pd.read_csv(StringIO(data_section),\n",
    "                              header=0, index_col='Month',\n",
    "                              converters = {\n",
    "                                  'Month' : lambda x: pd.to_datetime(x) \n",
    "                              })\n",
    "\n",
    "trends_data_montly.head()"
   ]
  },
  {
   "cell_type": "code",
   "execution_count": 31,
   "metadata": {},
   "outputs": [
    {
     "name": "stdout",
     "output_type": "stream",
     "text": [
      "374\n"
     ]
    },
    {
     "data": {
      "text/html": [
       "<div>\n",
       "<style>\n",
       "    .dataframe thead tr:only-child th {\n",
       "        text-align: right;\n",
       "    }\n",
       "\n",
       "    .dataframe thead th {\n",
       "        text-align: left;\n",
       "    }\n",
       "\n",
       "    .dataframe tbody tr th {\n",
       "        vertical-align: top;\n",
       "    }\n",
       "</style>\n",
       "<table border=\"1\" class=\"dataframe\">\n",
       "  <thead>\n",
       "    <tr style=\"text-align: right;\">\n",
       "      <th></th>\n",
       "      <th>debt</th>\n",
       "    </tr>\n",
       "    <tr>\n",
       "      <th>Week</th>\n",
       "      <th></th>\n",
       "    </tr>\n",
       "  </thead>\n",
       "  <tbody>\n",
       "    <tr>\n",
       "      <th>2004-01-10</th>\n",
       "      <td>63</td>\n",
       "    </tr>\n",
       "    <tr>\n",
       "      <th>2004-01-17</th>\n",
       "      <td>60</td>\n",
       "    </tr>\n",
       "    <tr>\n",
       "      <th>2004-01-24</th>\n",
       "      <td>61</td>\n",
       "    </tr>\n",
       "    <tr>\n",
       "      <th>2004-01-31</th>\n",
       "      <td>63</td>\n",
       "    </tr>\n",
       "    <tr>\n",
       "      <th>2004-02-07</th>\n",
       "      <td>61</td>\n",
       "    </tr>\n",
       "  </tbody>\n",
       "</table>\n",
       "</div>"
      ],
      "text/plain": [
       "            debt\n",
       "Week            \n",
       "2004-01-10    63\n",
       "2004-01-17    60\n",
       "2004-01-24    61\n",
       "2004-01-31    63\n",
       "2004-02-07    61"
      ]
     },
     "execution_count": 31,
     "metadata": {},
     "output_type": "execute_result"
    }
   ],
   "source": [
    "with open('trends_report_debt.csv') as f:\n",
    "    data_section = f.read().split('\\n\\n')[1]\n",
    "    trends_data = pd.read_csv(StringIO(data_section),\n",
    "                              header=1, index_col='Week',\n",
    "                              converters={\n",
    "                                  'Week': lambda x: pd.to_datetime(x.split(' ')[-1])\n",
    "                              })\n",
    "    \n",
    "print(len(trends_data))\n",
    "trends_data.head()"
   ]
  },
  {
   "cell_type": "code",
   "execution_count": null,
   "metadata": {},
   "outputs": [],
   "source": [
    "our_debt_trends = trends_data['2004-01-01':'2011-02-28'].reset_index()\n",
    "print(len(our_debt_trends))\n",
    "our_debt_trends.head()"
   ]
  },
  {
   "cell_type": "code",
   "execution_count": null,
   "metadata": {},
   "outputs": [],
   "source": [
    "data.head()"
   ]
  },
  {
   "cell_type": "code",
   "execution_count": null,
   "metadata": {},
   "outputs": [],
   "source": [
    "final = pd.merge(data, our_debt_trends, \\\n",
    "                 left_on='GoogleWE', right_on='Week',\n",
    "                 suffixes=['P', 'O'])\n",
    "final.drop('Week', inplace=True, axis=1)\n",
    "final.set_index('DJIADate', inplace=True)\n",
    "final.index.rename('Date', inplace=True)\n",
    "final.head()"
   ]
  },
  {
   "cell_type": "code",
   "execution_count": null,
   "metadata": {
    "scrolled": true
   },
   "outputs": [],
   "source": [
    "combined_trends = final[['GoogleWE', 'debtP', 'debtO']].set_index('GoogleWE')\n",
    "combined_trends.head()"
   ]
  },
  {
   "cell_type": "code",
   "execution_count": null,
   "metadata": {},
   "outputs": [],
   "source": [
    "combined_trends.plot.scatter('debtP', 'debtO', figsize=(6, 6), grid=True);"
   ]
  },
  {
   "cell_type": "code",
   "execution_count": null,
   "metadata": {},
   "outputs": [],
   "source": [
    "combined_trends.corr()"
   ]
  },
  {
   "cell_type": "code",
   "execution_count": null,
   "metadata": {},
   "outputs": [],
   "source": [
    "fig, ax1 = plt.subplots(figsize=(12, 6))\n",
    "ax1.plot(combined_trends.index,\n",
    "         combined_trends.debtP, color='b')\n",
    "ax1.grid(True)\n",
    "ax2 = ax1.twinx()\n",
    "ax2.plot(combined_trends.index,\n",
    "         combined_trends.debtO, color='r')\n",
    "plt.legend(['asd', 'asdf'])\n",
    "plt.show()"
   ]
  },
  {
   "cell_type": "code",
   "execution_count": null,
   "metadata": {
    "collapsed": true
   },
   "outputs": [],
   "source": []
  },
  {
   "cell_type": "code",
   "execution_count": null,
   "metadata": {
    "collapsed": true
   },
   "outputs": [],
   "source": []
  },
  {
   "cell_type": "code",
   "execution_count": null,
   "metadata": {
    "collapsed": true
   },
   "outputs": [],
   "source": []
  },
  {
   "cell_type": "code",
   "execution_count": null,
   "metadata": {},
   "outputs": [],
   "source": [
    "# to open the github issue stating that the autocomplete function\n",
    "# doesn't work when splitting long lines\n",
    "\n",
    "import IPython\n",
    "print(IPython.sys_info())"
   ]
  }
 ],
 "metadata": {
  "anaconda-cloud": {},
  "kernelspec": {
   "display_name": "Python [default]",
   "language": "python",
   "name": "python3"
  },
  "language_info": {
   "codemirror_mode": {
    "name": "ipython",
    "version": 3
   },
   "file_extension": ".py",
   "mimetype": "text/x-python",
   "name": "python",
   "nbconvert_exporter": "python",
   "pygments_lexer": "ipython3",
   "version": "3.6.3"
  }
 },
 "nbformat": 4,
 "nbformat_minor": 2
}
